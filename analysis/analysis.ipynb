{
 "cells": [
  {
   "cell_type": "code",
   "execution_count": null,
   "metadata": {
    "scrolled": false
   },
   "outputs": [],
   "source": [
    "library(ggplot2)\n",
    "library(dplyr)\n",
    "library(lme4)\n",
    "library(lmerTest)\n",
    "library(xtable)\n",
    "library(glmmTMB)\n",
    "library(cowplot)\n",
    "library(grid)\n",
    "\n",
    "pallete = c(\"#318480\", \"#b4464f\")"
   ]
  },
  {
   "cell_type": "markdown",
   "metadata": {},
   "source": [
    "# Bock 1992"
   ]
  },
  {
   "cell_type": "code",
   "execution_count": null,
   "metadata": {},
   "outputs": [],
   "source": [
    "b92_df <- read.csv(\"../evalsets/Bock1992/items.csv.reformat\")\n",
    "b92_df <- tidyr::separate(b92_df, condition, c(\"nums\",\"clause\"), sep=\"_\")\n",
    "b92_df <- tidyr::separate(b92_df, nums, c(\"subj\", \"attr\"), sep=1:2)\n",
    "\n",
    "b92_df$type <- substr(b92_df$model, 0, 4)\n",
    "b92_df$match <- b92_df$subj == b92_df$attr\n",
    "b92_df$subj <- as.factor(b92_df$subj)\n",
    "\n",
    "b92_df$sample <- 100 - b92_df$sample\n",
    "\n",
    "b92_df$max <- 100 - b92_df$max\n",
    "subset(b92_df, type==\"lstm\")\n",
    "\n",
    "means <- b92_df %>% group_by(model, type, match, clause) %>% summarize(sample = mean(sample), max = mean(max))\n",
    "\n",
    "means_na <- b92_df %>% group_by(model, type, match, subj) %>% summarize(sample = mean(sample), max = mean(max))\n",
    "\n",
    "subset(means, type==\"lstm\")\n"
   ]
  },
  {
   "cell_type": "code",
   "execution_count": null,
   "metadata": {},
   "outputs": [],
   "source": [
    "output <- b92_df %>% group_by(\"Model Type\"=type, \"Subject #\"=subj, \"Attractor #\"=attr, \"Modifier Type\"=clause) %>% summarize(\"Sample\"=mean(sample), \"MaxProb\"=mean(max))\n",
    "\n",
    "output[\"Modifier Type\"][output[\"Modifier Type\"] == \"prop\"] <- c(\"pp\", \"pp\", \"pp\", \"pp\")\n",
    "output\n",
    "print.xtable(xtable(output), file=\"Bock92Table.tex\", floating=FALSE)"
   ]
  },
  {
   "cell_type": "code",
   "execution_count": null,
   "metadata": {
    "scrolled": false
   },
   "outputs": [],
   "source": [
    "options(repr.plot.width=4, repr.plot.height=4)\n",
    "f <- ggplot(subset(b92_df, type==\"lstm\"), aes(x=clause, fill=match, y=sample/100)) + \n",
    "geom_bar(stat=\"summary\", position=\"dodge\", fun.y = \"mean\") + \n",
    "geom_point(data=subset(means, type==\"lstm\"), shape=16, size=2,\n",
    "           position=position_jitterdodge(jitter.height=0, jitter.width = 0.1, dodge.width=0.9)) +\n",
    "labs(x=\"\", y=\"% Attraction Errors\", fill=\"\") +\n",
    "theme_bw() +\n",
    "scale_fill_manual(labels=c(\"Subj-Attr Mismatch \\n  ...singers...\", \n",
    "                        \"Subj-Attr Match \\n ...singer...\"), values=pallete) +\n",
    "scale_x_discrete(labels=c(\"PP \\n ...from...\", \"RC\\n ...that...\")) +\n",
    "scale_y_continuous(labels=scales::percent) +\n",
    "coord_cartesian(ylim = c(0,0.40)) +\n",
    "theme(axis.text.x=element_text(size=20), axis.text.y=element_text(size=20),\n",
    "      axis.title.y=element_text(size=20),\n",
    "      strip.text=element_text(size=20), legend.text=element_text(size=20))\n",
    "legend <- cowplot::get_legend(f)\n",
    "f <-f + theme(legend.position = \"none\")\n",
    "f\n",
    "ggsave(\"Bock92_lstm.png\", width=4, height=4)"
   ]
  },
  {
   "cell_type": "code",
   "execution_count": null,
   "metadata": {},
   "outputs": [],
   "source": [
    "options(repr.plot.width=3, repr.plot.height=2)\n",
    "grid.newpage()\n",
    "png(\"bock92_legend.png\", width=3, height=2, units=\"in\", res=300)\n",
    "grid.draw(legend) \n",
    "dev.off()"
   ]
  },
  {
   "cell_type": "code",
   "execution_count": null,
   "metadata": {},
   "outputs": [],
   "source": [
    "options(repr.plot.width=4, repr.plot.height=4)\n",
    "\n",
    "\n",
    "b92_human <- data.frame(mod=c(\"PP\", \"PP\", \"PP\", \"PP\", \"RC\", \"RC\", \"RC\",\"RC\"),\n",
    "                        attr=c(\"Mismatch\", \"Mismatch\", \"Match\", \"Match\", \"Match\", \"Match\", \"Mismatch\", \"Mismatch\"),\n",
    "                        local=c(\"S\",\"P\", \"S\", \"P\", \"S\", \"P\", \"S\",\"P\"),\n",
    "                        err=c(8/188, 29/169, 3/187,6/180, 1/209, 3/199, 3/180, 22/189)\n",
    "                       )\n",
    "b92_human$attr <- with(b92_human, factor(attr, levels=rev(levels(attr))))\n",
    "\n",
    "\n",
    "ggplot(data=b92_human, aes(x=mod, y=err, fill=attr)) +\n",
    "geom_bar(stat=\"identity\", position=\"dodge\") +\n",
    "labs(x=\"\", y=\"% Attraction Errors\", fill=\"\") +\n",
    "theme_bw() +\n",
    "scale_fill_manual(labels=c(\"Subj-Attr Mismatch \\n  ...singers...\", \n",
    "                        \"Subj-Attr Match \\n ...singer...\"), values=pallete) +\n",
    "scale_x_discrete(labels=c(\"PP \\n ...from...\", \"RC\\n ...that...\")) +\n",
    "scale_y_continuous(labels=scales::percent) +\n",
    "theme(axis.text.x=element_text(size=20), axis.text.y=element_text(size=20),\n",
    "      axis.title.y=element_text(size=20),\n",
    "      strip.text=element_text(size=20), legend.text=element_text(size=20))+\n",
    "coord_cartesian(ylim = c(0,0.4)) +\n",
    "theme(legend.position = \"none\") \n",
    "\n",
    "ggsave(\"Bock92_human.png\", width=4, height=4)"
   ]
  },
  {
   "cell_type": "code",
   "execution_count": null,
   "metadata": {},
   "outputs": [],
   "source": [
    "ggplot(subset(b92_df, type==\"lstm\"), aes(x=subj, fill=match, y=sample)) + \n",
    "geom_bar(stat=\"summary\", position=\"dodge\", fun.y = \"mean\") + \n",
    "geom_point(data=subset(means_na, type==\"lstm\"), shape=16, size=2,\n",
    "           position=position_jitterdodge(jitter.height=0, jitter.width = 0.1, dodge.width=0.9)) +\n",
    "labs(x=\"Subject Number\", y=\"% Attraction Errors\", fill=\"Subject-Attractor #\") +\n",
    "scale_fill_hue(labels=c(\"Mismatch\", \"Match\")) +\n",
    "coord_cartesian(ylim = c(0,40)) +\n",
    "ylim(0,100) \n",
    "ggsave(\"B92_na_lstm.png\", width=5, height=4)"
   ]
  },
  {
   "cell_type": "code",
   "execution_count": null,
   "metadata": {},
   "outputs": [],
   "source": [
    "b92_lm <- glmmTMB(data=subset(b92_df, type==\"lstm\"), \n",
    "                  sample/100 ~ subj * match * clause + (1 | item) + (1 | model),\n",
    "                 family=beta_family())\n",
    "summary(b92_lm)"
   ]
  },
  {
   "cell_type": "code",
   "execution_count": null,
   "metadata": {},
   "outputs": [],
   "source": [
    "\n",
    "b92_lm <- glmmTMB(data=subset(b92_df, type==\"lstm\" & clause==\"rc\"), sample/100 ~ match + (1 | item) + (1 | model), family=beta_family())\n",
    "lstm_rc_eff <- -summary(b92_lm)$coeff$cond[2,1]\n",
    "lstm_rc_se <- summary(b92_lm)$coeff$cond[2,2]\n",
    "\n",
    "b92_lm <- glmmTMB(data=subset(b92_df, type==\"lstm\" & clause==\"prop\"), sample/100 ~ match + (1 | item) + (1 | model), family=beta_family())\n",
    "lstm_pp_eff <- -summary(b92_lm)$coeff$cond[2,1]\n",
    "lstm_pp_se <- summary(b92_lm)$coeff$cond[2,2]\n",
    "\n",
    "b92_effs <- data.frame(clause=c(\"RC\",\"PP\"), \n",
    "                       eff=c(lstm_rc_eff, lstm_pp_eff),\n",
    "                       se=c(lstm_rc_se, lstm_pp_se))\n",
    "b92_effs"
   ]
  },
  {
   "cell_type": "code",
   "execution_count": null,
   "metadata": {},
   "outputs": [],
   "source": [
    "ggplot(b92_effs, aes(y=eff, x = clause, color=clause)) + \n",
    "geom_point(stat=\"identity\", size=3) +\n",
    "geom_errorbar(aes(ymax=se+eff, ymin=-se+eff), width=0.5) +\n",
    "theme(legend.position = \"none\") +\n",
    "labs(x = \"Subject Modifier Type\", y = expression(paste(\"Size of Attraction Effect (\", beta, \")\")))\n",
    "\n",
    "expression(beta)\n",
    "b92_effs$eff\n",
    "\n",
    "ggsave(\"B92_effectsize.png\")"
   ]
  },
  {
   "cell_type": "markdown",
   "metadata": {},
   "source": [
    "# Haskell & Macdonald 2011"
   ]
  },
  {
   "cell_type": "code",
   "execution_count": null,
   "metadata": {},
   "outputs": [],
   "source": [
    "hm_df <- read.csv(\"../evalsets/HaskellMacdonald2011/items.csv.reformat\")\n",
    "\n",
    "hm_df$type <- substr(hm_df$model,0, 4)\n",
    "hm_df"
   ]
  },
  {
   "cell_type": "code",
   "execution_count": null,
   "metadata": {},
   "outputs": [],
   "source": [
    "output <- hm_df %>% group_by(\"Model Type\"=type, \"Order\"=condition) %>% summarize(\"Sample\"=mean(sample), \"MaxProb\" = mean(max))\n",
    "\n",
    "output\n",
    "\n",
    "print.xtable(xtable(output), file=\"HaskellTable.tex\", floating=FALSE)"
   ]
  },
  {
   "cell_type": "code",
   "execution_count": null,
   "metadata": {
    "scrolled": true
   },
   "outputs": [],
   "source": [
    "options(repr.plot.width=5, repr.plot.height=4)\n",
    "\n",
    "\n",
    "means <- hm_df %>% group_by(model, condition, type) %>% summarize(sample = mean(sample), max = mean(max))\n",
    "\n",
    "\n",
    "ggplot(subset(hm_df, type==\"lstm\"), aes(x=condition, y=sample/100)) + \n",
    "geom_bar(stat=\"summary\", position=\"dodge\", fun.y = \"mean\", fill=\"#566e4b\", width=0.7) + \n",
    "geom_point(data=subset(means, type==\"lstm\"), shape=16, size=2) +\n",
    "labs(x=\"\", y=\"% Plural Agreement\") +\n",
    "theme_bw() + \n",
    "scale_x_discrete(labels=c(\"boys... girl\", \"boy... girls\")) + \n",
    "scale_y_continuous(labels=scales::percent) +\n",
    "coord_cartesian(ylim = c(0,1)) +\n",
    "theme(axis.text.x=element_text(size=20), axis.text.y=element_text(size=20),\n",
    "      axis.title.y=element_text(size=20),\n",
    "      strip.text=element_text(size=20), legend.text=element_text(size=20))+\n",
    "theme(legend.position = \"none\")\n",
    "\n",
    "ggsave(\"Haskell_lstm.png\", width= 5, height = 4)"
   ]
  },
  {
   "cell_type": "code",
   "execution_count": null,
   "metadata": {},
   "outputs": [],
   "source": [
    "options(repr.plot.width=5, repr.plot.height=4)\n",
    "\n",
    "\n",
    "hm_human <- data.frame(order=c(\"SP\", \"PS\"),\n",
    "                            plural=c(98, 28)/100)\n",
    "\n",
    "ggplot(hm_human, aes(x=order, y=plural)) +\n",
    "labs(x=\"Ordering of # features in disjunction\", y=\"% Plural Agreement\") +\n",
    "labs(x=\"\", y=\"% Plural Agreement\") +\n",
    "scale_x_discrete(labels=c(\"boys... girl\", \"boy... girls\")) + \n",
    "scale_y_continuous(labels=scales::percent) +\n",
    "coord_cartesian(ylim = c(0,1)) +\n",
    "theme_bw() +\n",
    "theme(axis.text.x=element_text(size=20), axis.text.y=element_text(size=20),\n",
    "      axis.title.y=element_text(size=20),\n",
    "      strip.text=element_text(size=20), legend.text=element_text(size=20))+\n",
    "theme(legend.position = \"none\") +\n",
    "geom_bar(stat=\"identity\", fill=\"#566e4b\", width=0.7)\n",
    "\n",
    "ggsave(\"haskell_human.png\", width=5, height=4)"
   ]
  },
  {
   "cell_type": "code",
   "execution_count": null,
   "metadata": {},
   "outputs": [],
   "source": [
    "hm_lm <- glmmTMB(data=subset(hm_df, hm_df$type == \"lstm\"), \n",
    "                 sample/100 ~ condition  + (1|item) + (1 | model),\n",
    "                family=beta_family())\n",
    "\n",
    "summary(hm_lm)"
   ]
  },
  {
   "cell_type": "markdown",
   "metadata": {},
   "source": [
    "# Franck 2002"
   ]
  },
  {
   "cell_type": "code",
   "execution_count": null,
   "metadata": {
    "scrolled": true
   },
   "outputs": [],
   "source": [
    "franck_df <- read.csv('../evalsets/Franck2002/items.csv.reformat')\n",
    "\n",
    "franck_df <- tidyr::separate(franck_df, condition, c(\"subj\", \"inter\", \"local\"), sep=1:3)\n",
    "franck_df$sample <- 100 - franck_df$sample\n",
    "franck_df$max <- 100 - franck_df$max\n",
    "\n",
    "franck_df$inter_match <- franck_df$subj == franck_df$inter\n",
    "franck_df$local_match <- franck_df$subj == franck_df$local\n",
    "franck_df$type = substr(franck_df$model, 0, 4)\n",
    "\n",
    "franck_lstm_df = subset(franck_df, substr(franck_df$model, 0,4) == \"lstm\")\n",
    "franck_lstm_df$model <- droplevels(franck_lstm_df$model)\n",
    "summary(franck_lstm_df)\n"
   ]
  },
  {
   "cell_type": "code",
   "execution_count": null,
   "metadata": {
    "scrolled": true
   },
   "outputs": [],
   "source": [
    "means_lstm <- franck_lstm_df %>% group_by(model, inter_match, local_match) %>% summarize(sample = mean(sample), max = mean(max))\n"
   ]
  },
  {
   "cell_type": "code",
   "execution_count": null,
   "metadata": {},
   "outputs": [],
   "source": [
    "plt <- ggplot(franck_lstm_df, aes(x=inter_match, fill=local_match, y=max)) +\n",
    "geom_bar(stat=\"summary\", position=\"dodge\", fun.y = \"mean\") + \n",
    "geom_point(data=means_lstm, shape=16, size=2,\n",
    "           position=position_jitterdodge(jitter.height=0, jitter.width = 0.1, dodge.width=0.9)) + \n",
    "labs(x=\"Subject-Intermediate ('high') attractor #\", \n",
    "     fill=\"Subject-Local ('low') attractor #\", y=\"% Attraction Errors\") +\n",
    "scale_fill_hue(labels=c(\"Mismatch\", \"Match\")) +\n",
    "coord_cartesian(ylim=c(0,100))\n",
    "\n",
    "plt\n",
    "\n",
    "ggsave(\"Franck_max_lstm.png\")"
   ]
  },
  {
   "cell_type": "code",
   "execution_count": null,
   "metadata": {
    "scrolled": false
   },
   "outputs": [],
   "source": [
    "library(repr)\n",
    "options(repr.plot.width=4, repr.plot.height=4)\n",
    "\n",
    "\n",
    "plt <- ggplot(franck_lstm_df, aes(x=inter_match, fill=local_match, y=sample/100)) +\n",
    "geom_bar(stat=\"summary\", position=\"dodge\", fun.y = \"mean\") + \n",
    "geom_point(data=means_lstm, shape=16, size=2,\n",
    "           position=position_jitterdodge(jitter.height=0, jitter.width = 0.1, dodge.width=0.9)) + \n",
    "#stat_summary(fun.data = mean_se, geom = \"errorbar\", position=\"dodge\", color=\"black\") +\n",
    "labs(x=\"\", \n",
    "     fill=\"\", y=\"% Attraction Errors\") +\n",
    "scale_fill_manual(labels=c(\"threat... \\ncompanies\", \n",
    "                        \"threat... \\ncompany\"), values=pallete) +\n",
    "scale_x_discrete(labels=c(\"threat... \\npresidents\", \n",
    "                          \"threat... \\npresident\")) + \n",
    "scale_y_continuous(labels=scales::percent) +\n",
    "coord_cartesian(ylim = c(0,0.5)) +\n",
    "theme_bw() +\n",
    "theme(axis.text.x=element_text(size=19), axis.text.y=element_text(size=20),\n",
    "      axis.title.y=element_text(size=20),\n",
    "      strip.text=element_text(size=20), legend.text=element_text(size=20))\n",
    "legend <- cowplot::get_legend(plt)\n",
    "plt <- plt + theme(legend.position = \"none\") \n",
    "\n",
    "plt\n",
    "\n",
    "ggsave(\"Franck_lstm.png\", width = 4, height = 4)"
   ]
  },
  {
   "cell_type": "code",
   "execution_count": null,
   "metadata": {
    "scrolled": true
   },
   "outputs": [],
   "source": [
    "options(repr.plot.width=3, repr.plot.height=2)\n",
    "grid.newpage()\n",
    "png(\"franck_legend.png\", width=3, height=2, units=\"in\", res=300)\n",
    "grid.draw(legend) \n",
    "dev.off()\n",
    "grid.draw(legend)"
   ]
  },
  {
   "cell_type": "code",
   "execution_count": null,
   "metadata": {},
   "outputs": [],
   "source": [
    "options(repr.plot.width=4, repr.plot.height=4)\n",
    "\n",
    "\n",
    "franck_human <- data.frame(subj=rep(c(\"S\",\"P\"), each=4),\n",
    "                           inter=rep(c(\"S\", \"S\", \"P\", \"P\"), times=2),\n",
    "                           local=rep(c(\"S\", \"P\"), times=4),\n",
    "                           err=c(1.3, 0, 9.8, 4.5, 5.8, 9.4, 3.1, 1.3)/100)\n",
    "\n",
    "franck_human$inter_match <- franck_human$inter == franck_human$subj\n",
    "franck_human$local_match <- franck_human$local == franck_human$subj\n",
    "\n",
    "\n",
    "ggplot(franck_human, aes(x=inter_match, fill=local_match, y=err)) +\n",
    "geom_bar(stat=\"identity\", position=\"dodge\") + \n",
    "labs(x=\"\", \n",
    "     fill=\"\", y=\"% Attraction Errors\") +\n",
    "theme(axis.text=element_text(size=10), strip.text=element_text(size=9), legend.text=element_text(size=10)) +\n",
    "scale_fill_manual(labels=c(\"threat... \\ncompanies\", \n",
    "                        \"threat... \\ncompany\"), values=pallete) +\n",
    "scale_x_discrete(labels=c(\"threat... \\npresidents\", \n",
    "                          \"threat... \\npresident\")) + \n",
    "scale_y_continuous(labels=scales::percent) +\n",
    "coord_cartesian(ylim = c(0,0.5)) +\n",
    "theme_bw() +\n",
    "theme(axis.text.x=element_text(size=19), axis.text.y=element_text(size=20),\n",
    "      axis.title.y=element_text(size=20),\n",
    "      strip.text=element_text(size=20), legend.text=element_text(size=20))+\n",
    "theme(legend.position = 'none')\n",
    "\n",
    "ggsave(\"Franck_human.png\", width=4, height=4)"
   ]
  },
  {
   "cell_type": "code",
   "execution_count": null,
   "metadata": {},
   "outputs": [],
   "source": [
    "franck_lm <- glmmTMB(sample/100 ~ inter_match * local_match + (1 | item) \n",
    "                  + (1 | model), franck_lstm_df, \n",
    "                   family=beta_family())\n",
    "summary(franck_lm)\n",
    "lstm_eff <- summary(franck_lm)$coeff$cond[c(\"inter_matchTRUE\", \"local_matchTRUE\"), 1]\n",
    "lstm_se <- summary(franck_lm)$coeff$cond[c(\"inter_matchTRUE\", \"local_matchTRUE\"), 2]\n",
    "\n",
    "lstm_eff"
   ]
  },
  {
   "cell_type": "code",
   "execution_count": null,
   "metadata": {},
   "outputs": [],
   "source": [
    "# Compare low-attr-only errors to high-attr-only errors\n",
    "franck_lstm_df$cond <- factor(paste0(factor(franck_lstm_df$inter_match), factor(franck_lstm_df$local_match)))\n",
    "\n",
    "mat = t(matrix(c(0, 1, -1, 0), ncol = 4))\n",
    "mat\n",
    "\n",
    "franck_lm <- glmmTMB(sample/100 ~ cond + (1 | item) \n",
    "                  + (1 | model), franck_lstm_df, \n",
    "                   family=beta_family(), contrasts=list(cond=mat))\n",
    "\n",
    "summary(franck_lm)\n"
   ]
  },
  {
   "cell_type": "code",
   "execution_count": null,
   "metadata": {},
   "outputs": [],
   "source": [
    "summary(franck_lm)$coeff"
   ]
  },
  {
   "cell_type": "code",
   "execution_count": null,
   "metadata": {},
   "outputs": [],
   "source": [
    "eff_df <- data.frame(model=c(\"LSTM\", \"LSTM\"), attr=c(\"intermediate\", \"local\"), eff=lstm_eff, se=lstm_se)\n",
    "\n",
    "eff_df\n",
    "ggplot(eff_df, aes(y=-eff, x = attr, color=attr)) + \n",
    "facet_grid( ~ model) +\n",
    "geom_point(stat=\"identity\", size=5) +\n",
    "geom_errorbar(aes(ymax=-eff+se, ymin=-eff-se), width=0.5) +\n",
    "theme(legend.position = \"none\") +\n",
    "labs(y=expression(beta), x=\"Attractor Position\") \n",
    "\n",
    "ggsave(\"Franck_effectsize.png\", width=2.5, height=5)"
   ]
  },
  {
   "cell_type": "markdown",
   "metadata": {},
   "source": [
    "# Humphreys & Bock 2005"
   ]
  },
  {
   "cell_type": "code",
   "execution_count": null,
   "metadata": {},
   "outputs": [],
   "source": [
    "hb_df <- read.csv(\"../evalsets/HumphreysBock2005/items.csv.reformat\")\n",
    "hb_df <- tidyr::separate(hb_df, condition, c(\"subj\", \"local\", \"prep\"), sep=1:3)\n",
    "hb_df$type <- substr(hb_df$model, 0, 4)\n",
    "hb_df"
   ]
  },
  {
   "cell_type": "code",
   "execution_count": null,
   "metadata": {},
   "outputs": [],
   "source": [
    "options(repr.plot.width=4, repr.plot.height=4)\n",
    "\n",
    "hb_dist_df <- subset(hb_df, local == \"P\" & subj == \"C\")\n",
    "means <- hb_dist_df %>% group_by(model, type, subj, prep) %>% summarize(sample = mean(sample), max = mean(max))\n",
    "means <-subset(means, type==\"lstm\")\n",
    "\n",
    "ggplot(data=subset(hb_dist_df, type==\"lstm\"), aes(y=sample/100, x=prep)) +\n",
    "geom_bar(stat=\"summary\", position=\"dodge\", fun.y = \"mean\", fill=\"#56634b\", width=0.7) + \n",
    "theme(axis.text=element_text(size=5), strip.text=element_text(size=4), legend.text=element_text(size=6)) +\n",
    "geom_point(data=means, shape=16, size=2) +\n",
    "scale_x_discrete(labels=c(\"...near...\", \n",
    "                          \"...on...\" ))  +\n",
    "labs(y=\"% Plural Verb Forms\", x = \"\", fill=\"Notional Reading Bias\") +\n",
    "theme(axis.text=element_text(size=10), strip.text=element_text(size=9), axis.title.x=element_text(hjust=c(1)), legend.text=element_text(size=10)) +\n",
    "theme(legend.position=\"None\") +\n",
    "scale_y_continuous(labels=scales::percent) +\n",
    "coord_cartesian(ylim = c(0,1)) +\n",
    "theme_bw() +\n",
    "theme(axis.text.x=element_text(size=19), axis.text.y=element_text(size=20),\n",
    "      axis.title.y=element_text(size=20),\n",
    "      strip.text=element_text(size=20), legend.text=element_text(size=20))\n",
    "\n",
    "ggsave(\"Humphreys_lstm.png\", width=5, height=4)"
   ]
  },
  {
   "cell_type": "code",
   "execution_count": null,
   "metadata": {},
   "outputs": [],
   "source": [
    "options(repr.plot.width=5, repr.plot.height=4)\n",
    "\n",
    "\n",
    "hb_human <- data.frame(prep=c(\"Collective\", \"Distributive\"),\n",
    "                             plural=c(67,75)/100)\n",
    "\n",
    "ggplot(data=hb_human, aes(y=plural, x=prep)) +\n",
    "geom_bar(stat=\"identity\", position=\"dodge\", fill=\"#566e4b\", width=0.7) + \n",
    "theme(legend.position=\"None\") +\n",
    "scale_x_discrete(labels=c(\"...near...\", \n",
    "                          \"...on...\" ))  +\n",
    "labs(y=\"% Plural Verb Forms\", x = \"\", fill=\"Notional Reading Bias\") +\n",
    "theme(axis.text=element_text(size=16), strip.text=element_text(size=16), axis.title.x=element_text(hjust=c(-0)), legend.text=element_text(size=16)) +\n",
    "scale_y_continuous(labels=scales::percent) +\n",
    "coord_cartesian(ylim = c(0,1)) +\n",
    "\n",
    "theme_bw() +\n",
    "theme(axis.text.x=element_text(size=19), axis.text.y=element_text(size=20),\n",
    "      axis.title.y=element_text(size=20),\n",
    "      strip.text=element_text(size=20), legend.text=element_text(size=20))\n",
    "ggsave(\"Humphreys_human.png\", width=5, height=4)"
   ]
  },
  {
   "cell_type": "code",
   "execution_count": null,
   "metadata": {},
   "outputs": [],
   "source": [
    "hb_lm <- glmmTMB(data=subset(hb_df, subj == \"C\" & local == \"P\" & type == \"lstm\"), \n",
    "                 sample/100 ~ prep + (1 | item) + (1 | model),\n",
    "                family=beta_family())\n",
    "summary(hb_lm)     "
   ]
  },
  {
   "cell_type": "markdown",
   "metadata": {},
   "source": [
    "# Parker & An"
   ]
  },
  {
   "cell_type": "code",
   "execution_count": null,
   "metadata": {},
   "outputs": [],
   "source": [
    "pa_df <- read.csv(\"../evalsets/ParkerAn2018/items.csv.reformat\")\n",
    "pa_df$type <- substr(pa_df$model,0, 4)\n",
    "pa_df$max <- 100 - pa_df$max\n",
    "pa_df$sample <- 100 - pa_df$sample\n",
    "\n",
    "pa_df <- tidyr::separate(pa_df, condition, c(\"argument\", \"attr\"), sep=\"_\")\n",
    "pa_df"
   ]
  },
  {
   "cell_type": "code",
   "execution_count": null,
   "metadata": {},
   "outputs": [],
   "source": [
    "pa_lm <- glmmTMB(data=(subset(pa_df, type = \"lstm\")), \n",
    "                 sample/100 ~ attr * argument + (1 | item) + (1 | model),\n",
    "                family=beta_family())\n",
    "summary(pa_lm)"
   ]
  },
  {
   "cell_type": "code",
   "execution_count": null,
   "metadata": {},
   "outputs": [],
   "source": [
    "pac_df <- read.csv(\"../evalsets/ParkerAn2018/items.comp.csv.reformatc\")\n",
    "pac_df$type <- substr(pac_df$model,0, 4)\n",
    "pac_df$surp <- abs(pac_df$surp)\n",
    "pac_df$avg_surp <- pac_df$surp/pac_df$len\n",
    "pac_df <- tidyr::separate(pac_df, condition, c(\"argument\", \"attr\", \"gram\"), sep=\"_\")\n",
    "pac_df\n"
   ]
  },
  {
   "cell_type": "code",
   "execution_count": null,
   "metadata": {
    "scrolled": true
   },
   "outputs": [],
   "source": [
    "options(repr.plot.width=4, repr.plot.height=4)\n",
    "\n",
    "means <- pac_df %>% group_by(model, type, argument, attr, gram) %>% summarize(avg_surp = mean(avg_surp))\n",
    "\n",
    "\n",
    "plt <- ggplot(data=subset(pac_df, type==\"lstm\"), aes(y=avg_surp, x=attr, color=gram)) +\n",
    "geom_point(stat=\"summary\", position=position_dodge(width=0.9), fun.y = \"mean\", size=5, shape=\"triangle\") + \n",
    "geom_point(data=subset(means, type==\"lstm\"), shape=16, size=2,\n",
    "           position=position_jitterdodge(jitter.height=0, jitter.width = 0.3, dodge.width=0.9)) +\n",
    "labs(y=\"Average Surprisal\", x = \"\", color=\"\") +\n",
    "scale_color_manual(labels=c(\"Grammatical \\n .. was unhappy.\", \"Ungrammatical \\n ...were unhappy.\"), values=pallete) +\n",
    "scale_x_discrete(labels=c(\"girls\", \"girl\")) + \n",
    "facet_grid(~ argument, labeller=labeller(argument=c(CORE=\"Core \\n ...sat...\",\n",
    "                                                    OBLIQUE=\"Oblique \\n ...sat near the...\"))) +\n",
    "theme_bw() +\n",
    "theme(axis.text.x=element_text( size=19), axis.text.y=element_text(size=20),\n",
    "      axis.title.y=element_text(size=20),\n",
    "      strip.text=element_text(size=20), legend.text=element_text(size=20)) \n",
    "legend <- cowplot::get_legend(plt)\n",
    "\n",
    "plt <- plt + theme(legend.position = \"none\")\n",
    "plt\n",
    "ggsave(\"Parker_lstm.png\", width=4, height=4)"
   ]
  },
  {
   "cell_type": "code",
   "execution_count": null,
   "metadata": {
    "scrolled": true
   },
   "outputs": [],
   "source": [
    "options(repr.plot.width=3, repr.plot.height=2)\n",
    "grid.newpage()\n",
    "png(\"parker_legend.png\", width=3, height=2, units=\"in\", res=300)\n",
    "grid.draw(legend) \n",
    "dev.off()\n",
    "grid.draw(legend)"
   ]
  },
  {
   "cell_type": "code",
   "execution_count": null,
   "metadata": {},
   "outputs": [],
   "source": [
    "options(repr.plot.width=5, repr.plot.height=4)\n",
    "\n",
    "\n",
    "pa_human <- data.frame(argument=rep(c(\"core\", \"oblique\"), each=4),\n",
    "                           gram=rep(rep(c(\"G\", \"U\"), each=2), times=2),\n",
    "                           attr=rep(c(\"P\", \"S\"), times=4),\n",
    "                           rt=c(313,314,351,349,317,326,332,357)\n",
    "                           )\n",
    "\n",
    "\n",
    "\n",
    "ggplot(data=pa_human, aes(y=rt, x=attr, color=gram)) +\n",
    "geom_point(stat=\"identity\", position=position_dodge(width=0.9), size=5, shape=\"triangle\") +\n",
    "labs(y=\"Reading Time (ms)\", x = \"\", color=\"\") +\n",
    "scale_color_manual(labels=c(\"Grammatical \\n .. was unhappy.\", \"Ungrammatical \\n ...were unhappy.\"), values=pallete) +\n",
    "scale_x_discrete(labels=c(\"girls\", \"girl\")) + \n",
    "facet_grid(~ argument, labeller=labeller(argument=c(core=\"Core \\n ...sat...\",\n",
    "                                                    oblique=\"Oblique \\n ...sat near...\"))) +\n",
    "theme_bw() +\n",
    "theme(axis.text.x=element_text( size=19), axis.text.y=element_text(size=20),\n",
    "      axis.title.y=element_text(size=20),\n",
    "      strip.text=element_text(size=20), legend.text=element_text(size=20)) +\n",
    "theme(legend.position=\"None\") \n",
    "\n",
    "ggsave(\"Parker_human.png\", width=4, height=4)"
   ]
  },
  {
   "cell_type": "markdown",
   "metadata": {},
   "source": [
    "# Wagers2009 Illusion/Outer Attraction"
   ]
  },
  {
   "cell_type": "code",
   "execution_count": null,
   "metadata": {},
   "outputs": [],
   "source": [
    "w3_df <- read.csv(\"../evalsets/Wagers2009/23_illusion/items.csv.reformatc\")\n",
    "\n",
    "w3_df <- tidyr::separate(w3_df, condition, c(\"subj\", \"attr\", \"gram\"), sep=1:3)\n",
    "w3_df$surp <- abs(w3_df$surp)/w3_df$len\n",
    "w3_df$type <- substr(w3_df$model, 0, 4)\n",
    "w3_df$subj <- as.factor(w3_df$subj)\n",
    "w3_df$match <- w3_df$subj == w3_df$attr\n",
    "w3_df$match_v <- ifelse(w3_df$gram == \"G\", w3_df$match, ! w3_df$match)\n",
    "w3_df\n",
    "\n",
    "summary(w3_df)"
   ]
  },
  {
   "cell_type": "code",
   "execution_count": null,
   "metadata": {},
   "outputs": [],
   "source": [
    "options(repr.plot.width=4, repr.plot.height=4)\n",
    "\n",
    "means <- w3_df %>% group_by(model, gram, match, type) %>% summarize(surp = mean(surp))\n",
    "\n",
    "plt <- ggplot(data=subset(w3_df, type==\"lstm\"), aes(y=surp, x=match, color=gram)) +\n",
    "geom_point(stat=\"summary\", position=position_dodge(width=0.9), fun.y = \"mean\", size=5, shape=\"triangle\") + \n",
    "geom_point(data=subset(means, type==\"lstm\"), shape=16, size=2,\n",
    "           position=position_jitterdodge(jitter.height=0, jitter.width = 0.3, dodge.width=0.9)) +\n",
    "labs(y=\"Average Surprisal\", x = \"\", color=\"\") +\n",
    "scale_color_manual(labels=c(\"Grammatical \\n ...praises...\",\n",
    "                          \"Ungrammatical \\n ...praise...\"), values=pallete) +\n",
    "scale_x_discrete(labels=c(\"musicians...\\nreviewer\",\n",
    "                          \"musician...\\nreviewer\")) +\n",
    "theme_bw() +\n",
    "theme(axis.text.x=element_text( size=19), axis.text.y=element_text(size=20),\n",
    "      axis.title.y=element_text(size=20),\n",
    "      strip.text=element_text(size=20), legend.text=element_text(size=20)) \n",
    "legend <- cowplot::get_legend(plt)\n",
    "plt <- plt + theme(legend.position=\"none\")\n",
    "plt\n",
    "ggsave(\"Wagers_lstm.png\", width=4, height=4)\n"
   ]
  },
  {
   "cell_type": "code",
   "execution_count": null,
   "metadata": {
    "scrolled": true
   },
   "outputs": [],
   "source": [
    "options(repr.plot.width=3, repr.plot.height=2)\n",
    "grid.newpage()\n",
    "png(\"wagers_legend.png\", width=3, height=2, units=\"in\", res=300)\n",
    "grid.draw(legend) \n",
    "dev.off()\n",
    "grid.draw(legend)"
   ]
  },
  {
   "cell_type": "code",
   "execution_count": null,
   "metadata": {},
   "outputs": [],
   "source": [
    "options(repr.plot.width=4, repr.plot.height=4)\n",
    "\n",
    "w3_human <- data.frame(subj=rep(c(\"S\", \"P\"), each=4),\n",
    "                       gram=rep(rep(c(\"G\", \"U\"), each=2), times=2),\n",
    "                       attr=rep(c('S', 'P'), times=4),\n",
    "                       rt=c(348,353,415,377, 354, 356, 408, 400)\n",
    "                       )\n",
    "w3_human$match <- w3_human$subj == w3_human$attr\n",
    "\n",
    "ggplot(data=w3_human, aes(y=rt, x=match, color=gram)) +\n",
    "theme_bw() +\n",
    "stat_summary(geom=\"point\", position=position_dodge(width=0.9), size=5, shape=\"triangle\", fun.y=mean) + \n",
    "labs(y=\"Reading Time (ms)\", x = \"\", color=\"\") +\n",
    "scale_color_manual(labels=c(\"Grammatical \\n ...praises...\",\n",
    "                          \"Ungrammatical \\n ...praise...\"), values=pallete) +\n",
    "scale_x_discrete(labels=c(\"musicians...\\nreviewer\",\n",
    "                          \"musician...\\nreviewer\")) +\n",
    "theme_bw() +\n",
    "theme(axis.text.x=element_text( size=19), axis.text.y=element_text(size=20),\n",
    "      axis.title.y=element_text(size=20),\n",
    "      strip.text=element_text(size=20), legend.text=element_text(size=20), legend.position=\"none\") +\n",
    "ylim(300, 550) +\n",
    "theme(legend.position=\"None\") \n",
    "\n",
    "ggsave(\"Wagers_human.png\", width=4, height=4)"
   ]
  },
  {
   "cell_type": "code",
   "execution_count": null,
   "metadata": {},
   "outputs": [],
   "source": [
    "w3_lm <- lmer(data=subset(w3_df, type==\"lstm\" & gram==\"U\"), \n",
    "              surp ~ match + (subj * match  || item))\n",
    "\n",
    "summary(w3_lm)\n",
    "w3_lm <- lmer(data=subset(w3_df, type==\"lstm\" & gram==\"G\"), \n",
    "              surp ~ match + (subj * match  || item))\n",
    "\n",
    "summary(w3_lm)\n",
    "\n",
    "w3_lm <- lmer(data=subset(w3_df, type==\"lstm\"), \n",
    "              surp ~ gram * match_v + (subj * match_v * gram || item))\n",
    "summary(w3_lstm)"
   ]
  }
 ],
 "metadata": {
  "kernelspec": {
   "display_name": "R",
   "language": "R",
   "name": "ir"
  },
  "language_info": {
   "codemirror_mode": "r",
   "file_extension": ".r",
   "mimetype": "text/x-r-source",
   "name": "R",
   "pygments_lexer": "r",
   "version": "3.6.1"
  }
 },
 "nbformat": 4,
 "nbformat_minor": 2
}
