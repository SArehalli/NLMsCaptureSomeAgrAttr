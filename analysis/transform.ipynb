{
 "cells": [
  {
   "cell_type": "code",
   "execution_count": null,
   "metadata": {},
   "outputs": [],
   "source": [
    "import pandas as pd\n",
    "import numpy as np"
   ]
  },
  {
   "cell_type": "code",
   "execution_count": null,
   "metadata": {},
   "outputs": [],
   "source": [
    "franck_df.to_csv(franck_fn+\".reformat\")"
   ]
  },
  {
   "cell_type": "code",
   "execution_count": null,
   "metadata": {},
   "outputs": [],
   "source": [
    "csv_fn = \"../evalsets/{}/items.csv\"\n",
    "\n",
    "\n",
    "def reformat(fn):\n",
    "    cols = [\"item\", \"condition\", \"model\", \"max\", \"sample\"]\n",
    "    df = pd.DataFrame(columns=cols)\n",
    "    \n",
    "    csv = pd.read_csv(fn)\n",
    "    old_cols = [col for col in csv]\n",
    "    col_temp = \"{} {} correct ({})\"\n",
    "    models = [\"lstm\", \"rnng\"]\n",
    "    linking = [\"sample\", \"max\"]\n",
    "\n",
    "    for index, row in csv.iterrows():\n",
    "        for model in models:\n",
    "            for num in range(5):\n",
    "                if col_temp.format(model, num, \"max\"):\n",
    "                    entry = {\"item\":row[\"item\"].split(\"_\")[1], \"condition\":row[\"condition\"], \n",
    "                         \"model\":model+str(num), \"max\":row[col_temp.format(model, num, \"max\")], \n",
    "                         \"sample\":row[col_temp.format(model, num, \"sample\")]}\n",
    "                    df = df.append(entry, ignore_index=True)\n",
    "    df.to_csv(fn+\".reformat\")"
   ]
  },
  {
   "cell_type": "code",
   "execution_count": null,
   "metadata": {},
   "outputs": [],
   "source": [
    "reformat(csv_fn.format(\"Bock1992\"))\n",
    "reformat(csv_fn.format(\"Franck2002\"))\n",
    "reformat(csv_fn.format(\"Bock1999\"))\n",
    "reformat(csv_fn.format(\"HaskellMacdonald2011\"))\n",
    "reformat(csv_fn.format(\"HumphreysBock2005\"))\n",
    "reformat(csv_fn.format(\"ParkerAn2018\"))"
   ]
  },
  {
   "cell_type": "code",
   "execution_count": null,
   "metadata": {},
   "outputs": [],
   "source": [
    "def reformat_comp(fn):\n",
    "    cols = [\"item\", \"condition\", \"model\", \"surp\", \"len\"]\n",
    "    df = pd.DataFrame(columns=cols)\n",
    "    \n",
    "    csv = pd.read_csv(fn)\n",
    "    old_cols = [col for col in csv]\n",
    "    tag = \" (surprisal)\"\n",
    "    models = [\"lstm {}\", \"rnng {} correct\"]\n",
    "\n",
    "    for index, row in csv.iterrows():\n",
    "        for model in models:\n",
    "            for num in range(5):\n",
    "                    entry = {\"item\":row[\"item\"].split(\"_\")[1], \"condition\":row[\"condition\"], \n",
    "                         \"model\":model.split()[0]+str(num), \"surp\":row[model.format(num) + tag],\n",
    "                         \"len\":len(row[\"sentence\"].split())}\n",
    "                    df = df.append(entry, ignore_index=True)\n",
    "    df.to_csv(fn+\".reformatc\")"
   ]
  },
  {
   "cell_type": "code",
   "execution_count": null,
   "metadata": {},
   "outputs": [],
   "source": [
    "reformat_comp(\"../evalsets/ParkerAn2018/items.comp.csv\")\n",
    "reformat_comp(csv_fn.format(\"Wagers2009/1_Baseline\"))\n",
    "reformat_comp(csv_fn.format(\"Wagers2009/23_illusion\"))"
   ]
  }
 ],
 "metadata": {
  "kernelspec": {
   "display_name": "Python 3.7",
   "language": "python",
   "name": "python37"
  },
  "language_info": {
   "codemirror_mode": {
    "name": "ipython",
    "version": 3
   },
   "file_extension": ".py",
   "mimetype": "text/x-python",
   "name": "python",
   "nbconvert_exporter": "python",
   "pygments_lexer": "ipython3",
   "version": "3.7.5"
  }
 },
 "nbformat": 4,
 "nbformat_minor": 2
}
